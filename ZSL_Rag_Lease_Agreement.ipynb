{
  "nbformat": 4,
  "nbformat_minor": 0,
  "metadata": {
    "colab": {
      "provenance": []
    },
    "kernelspec": {
      "name": "python3",
      "display_name": "Python 3"
    },
    "language_info": {
      "name": "python"
    }
  },
  "cells": [
    {
      "cell_type": "code",
      "source": [
        "!pip install python-docx\n",
        "!pip install python-docx\n",
        "!pip install -q -U google-generativeai\n",
        "!pip install sentence-transformers\n",
        "!pip install faiss-cpu"
      ],
      "metadata": {
        "colab": {
          "base_uri": "https://localhost:8080/"
        },
        "id": "UWJcDmj_DW-q",
        "outputId": "1bd70bcf-7736-4bf6-c428-d522dbf54c22"
      },
      "execution_count": 1,
      "outputs": [
        {
          "output_type": "stream",
          "name": "stdout",
          "text": [
            "Requirement already satisfied: python-docx in /usr/local/lib/python3.10/dist-packages (1.1.2)\n",
            "Requirement already satisfied: lxml>=3.1.0 in /usr/local/lib/python3.10/dist-packages (from python-docx) (5.3.0)\n",
            "Requirement already satisfied: typing-extensions>=4.9.0 in /usr/local/lib/python3.10/dist-packages (from python-docx) (4.12.2)\n",
            "Requirement already satisfied: python-docx in /usr/local/lib/python3.10/dist-packages (1.1.2)\n",
            "Requirement already satisfied: lxml>=3.1.0 in /usr/local/lib/python3.10/dist-packages (from python-docx) (5.3.0)\n",
            "Requirement already satisfied: typing-extensions>=4.9.0 in /usr/local/lib/python3.10/dist-packages (from python-docx) (4.12.2)\n",
            "Requirement already satisfied: sentence-transformers in /usr/local/lib/python3.10/dist-packages (3.2.1)\n",
            "Requirement already satisfied: transformers<5.0.0,>=4.41.0 in /usr/local/lib/python3.10/dist-packages (from sentence-transformers) (4.44.2)\n",
            "Requirement already satisfied: tqdm in /usr/local/lib/python3.10/dist-packages (from sentence-transformers) (4.66.6)\n",
            "Requirement already satisfied: torch>=1.11.0 in /usr/local/lib/python3.10/dist-packages (from sentence-transformers) (2.5.0+cu121)\n",
            "Requirement already satisfied: scikit-learn in /usr/local/lib/python3.10/dist-packages (from sentence-transformers) (1.5.2)\n",
            "Requirement already satisfied: scipy in /usr/local/lib/python3.10/dist-packages (from sentence-transformers) (1.13.1)\n",
            "Requirement already satisfied: huggingface-hub>=0.20.0 in /usr/local/lib/python3.10/dist-packages (from sentence-transformers) (0.24.7)\n",
            "Requirement already satisfied: Pillow in /usr/local/lib/python3.10/dist-packages (from sentence-transformers) (10.4.0)\n",
            "Requirement already satisfied: filelock in /usr/local/lib/python3.10/dist-packages (from huggingface-hub>=0.20.0->sentence-transformers) (3.16.1)\n",
            "Requirement already satisfied: fsspec>=2023.5.0 in /usr/local/lib/python3.10/dist-packages (from huggingface-hub>=0.20.0->sentence-transformers) (2024.10.0)\n",
            "Requirement already satisfied: packaging>=20.9 in /usr/local/lib/python3.10/dist-packages (from huggingface-hub>=0.20.0->sentence-transformers) (24.1)\n",
            "Requirement already satisfied: pyyaml>=5.1 in /usr/local/lib/python3.10/dist-packages (from huggingface-hub>=0.20.0->sentence-transformers) (6.0.2)\n",
            "Requirement already satisfied: requests in /usr/local/lib/python3.10/dist-packages (from huggingface-hub>=0.20.0->sentence-transformers) (2.32.3)\n",
            "Requirement already satisfied: typing-extensions>=3.7.4.3 in /usr/local/lib/python3.10/dist-packages (from huggingface-hub>=0.20.0->sentence-transformers) (4.12.2)\n",
            "Requirement already satisfied: networkx in /usr/local/lib/python3.10/dist-packages (from torch>=1.11.0->sentence-transformers) (3.4.2)\n",
            "Requirement already satisfied: jinja2 in /usr/local/lib/python3.10/dist-packages (from torch>=1.11.0->sentence-transformers) (3.1.4)\n",
            "Requirement already satisfied: sympy==1.13.1 in /usr/local/lib/python3.10/dist-packages (from torch>=1.11.0->sentence-transformers) (1.13.1)\n",
            "Requirement already satisfied: mpmath<1.4,>=1.1.0 in /usr/local/lib/python3.10/dist-packages (from sympy==1.13.1->torch>=1.11.0->sentence-transformers) (1.3.0)\n",
            "Requirement already satisfied: numpy>=1.17 in /usr/local/lib/python3.10/dist-packages (from transformers<5.0.0,>=4.41.0->sentence-transformers) (1.26.4)\n",
            "Requirement already satisfied: regex!=2019.12.17 in /usr/local/lib/python3.10/dist-packages (from transformers<5.0.0,>=4.41.0->sentence-transformers) (2024.9.11)\n",
            "Requirement already satisfied: safetensors>=0.4.1 in /usr/local/lib/python3.10/dist-packages (from transformers<5.0.0,>=4.41.0->sentence-transformers) (0.4.5)\n",
            "Requirement already satisfied: tokenizers<0.20,>=0.19 in /usr/local/lib/python3.10/dist-packages (from transformers<5.0.0,>=4.41.0->sentence-transformers) (0.19.1)\n",
            "Requirement already satisfied: joblib>=1.2.0 in /usr/local/lib/python3.10/dist-packages (from scikit-learn->sentence-transformers) (1.4.2)\n",
            "Requirement already satisfied: threadpoolctl>=3.1.0 in /usr/local/lib/python3.10/dist-packages (from scikit-learn->sentence-transformers) (3.5.0)\n",
            "Requirement already satisfied: MarkupSafe>=2.0 in /usr/local/lib/python3.10/dist-packages (from jinja2->torch>=1.11.0->sentence-transformers) (3.0.2)\n",
            "Requirement already satisfied: charset-normalizer<4,>=2 in /usr/local/lib/python3.10/dist-packages (from requests->huggingface-hub>=0.20.0->sentence-transformers) (3.4.0)\n",
            "Requirement already satisfied: idna<4,>=2.5 in /usr/local/lib/python3.10/dist-packages (from requests->huggingface-hub>=0.20.0->sentence-transformers) (3.10)\n",
            "Requirement already satisfied: urllib3<3,>=1.21.1 in /usr/local/lib/python3.10/dist-packages (from requests->huggingface-hub>=0.20.0->sentence-transformers) (2.2.3)\n",
            "Requirement already satisfied: certifi>=2017.4.17 in /usr/local/lib/python3.10/dist-packages (from requests->huggingface-hub>=0.20.0->sentence-transformers) (2024.8.30)\n",
            "Requirement already satisfied: faiss-cpu in /usr/local/lib/python3.10/dist-packages (1.9.0)\n",
            "Requirement already satisfied: numpy<3.0,>=1.25.0 in /usr/local/lib/python3.10/dist-packages (from faiss-cpu) (1.26.4)\n",
            "Requirement already satisfied: packaging in /usr/local/lib/python3.10/dist-packages (from faiss-cpu) (24.1)\n"
          ]
        }
      ]
    },
    {
      "cell_type": "code",
      "source": [
        "import pandas as pd\n",
        "import random\n",
        "import numpy as np\n",
        "import os\n",
        "import google.generativeai as genai\n",
        "os.environ['GOOGLE_API_KEY'] = \"your google key\"\n",
        "\n",
        "genai.configure(api_key=os.environ[\"GOOGLE_API_KEY\"])\n",
        "model_google = genai.GenerativeModel('gemini-1.5-flash')"
      ],
      "metadata": {
        "id": "8zoSImxeEL6w"
      },
      "execution_count": 2,
      "outputs": []
    },
    {
      "cell_type": "code",
      "execution_count": 3,
      "metadata": {
        "colab": {
          "base_uri": "https://localhost:8080/"
        },
        "id": "jvI0FR3IDE6Y",
        "outputId": "ee6cb6f5-3256-4cba-e55d-941d800162d3"
      },
      "outputs": [
        {
          "output_type": "stream",
          "name": "stdout",
          "text": [
            "\n",
            "\n",
            "\n",
            "\n",
            "\n",
            "\n",
            "\n",
            "\n",
            "\n",
            "RENTAL AGREEMENT 2.0: THE ULTIMATE ROOMIE RULES\n",
            "This agreement is lit! On this fabulous fifth day of December 2008, we've got:\n",
            "The Landlord (a.k.a. The Big Cheese): MR. K. Kuttan, son of Kelu Aehari (RIP), residing at Site No. 152 Geethalayam OMH Colony, S.M. Road, 1st main, T. Dasarahalli, Bangalore - 57.\n",
            "The Tenant (a.k.a. The Roomie): Sri P.M. Narayana Namboodri, \"Laxmi Leela,\" ground floor, 3rd cross, Ayyappa Nagar, behind Ayyappa Temple, Jalahalli West, Bangalore - 15.\n",
            "The Lowdown:\n",
            "The Big Cheese owns the pad at Site No. 8/20 S.M. Road, Jalahalli West, Bangalore - 15, with an awesome 500 sqft second floor, A.C. sheet roof, and power lights.\n",
            "The Deal:\n",
            "The Roomie wants to rent it for non-residential purposes (aka \"MAHALAKSHMI INDUSTRIAL CONSULTANT\") and promises to pay ₹4,000 (Rupees Four Thousand only) per month.\n",
            "Terms & Conditions:\n",
            "\t1.\tRent Due Date: 10th of each month. Don't be late, Roomie!\n",
            "\n",
            "\t2.\t\n",
            "\t3.\tSecurity Deposit: ₹35,000 (Rupees Thirty-Five Thousand only). No interest, refundable when you peace out.\n",
            "\n",
            "\t4.\t\n",
            "\t5.\tNotice Period: 3 months. Give us food, and we'll let you go.\n",
            "\n",
            "\t6.\t\n",
            "\t7.\tUtilities: Pay electricity and water bills within a week. No freeloaders!\n",
            "\n",
            "\t8.\t\n",
            "\t9.\tClean Slate: Leave the place spotless when you leave.\n",
            "\n",
            "\t10.\t\n",
            "\t11.\tNo Subletting: Don't try to rent it out to your BFF.\n",
            "\n",
            "\t12.\t\n",
            "\t13.\tNo Drama: Landlord's not responsible for theft, burglary, fire, or accidents.\n",
            "\n",
            "\t14.\t\n",
            "\t15.\tInsurance: Roomie's got this!\n",
            "\n",
            "\t16.\t\n",
            "\t17.\tNeighborly Love: Be cool with the neighbors.\n",
            "\n",
            "\t18.\t\n",
            "\n",
            "Boundaries:\n",
            "North by South by East by West (you get the idea)...\n",
            "Witnessed:\n",
            "Signed, sealed, and delivered at Site No. 8/20 AGS building, 2nd Floor (A.C. sheet roof), Private building, S.M. Road.\n",
            "WITNESSES:\n",
            "OWNER (The Big Cheese) TENANT (The Roomie)\n",
            "Disclaimer: Don't take this too seriously. It's just a funny rental agreement. Consult a lawyer for real deals!\n",
            "1.\n"
          ]
        }
      ],
      "source": [
        "import docx\n",
        "from docx import Document\n",
        "\n",
        "# Load document\n",
        "doc = Document(\"/content/funnyagree.docx\")\n",
        "full_text = \"\\n\".join([para.text for para in doc.paragraphs])\n",
        "print(full_text)"
      ]
    },
    {
      "cell_type": "code",
      "source": [
        "prompt_genai =\"Please organize the following rental agreement text in its original format and wordings into the sections: Parties Involved, Lease Term, Rent Amount, Deposit and Fees, Tenant Obligations, Special Conditions. Important to Keep the sentences as they are from the document dont change original text and style. If a section is missing, leave it blank.\""
      ],
      "metadata": {
        "id": "jfGp8ZDcERDu"
      },
      "execution_count": 4,
      "outputs": []
    },
    {
      "cell_type": "code",
      "source": [
        "response =model_google.generate_content(\"Organize the rental agreement text into specific sections.\" +  prompt_genai + full_text)"
      ],
      "metadata": {
        "id": "FX1dg8KJERAN"
      },
      "execution_count": 5,
      "outputs": []
    },
    {
      "cell_type": "code",
      "source": [
        "response.text"
      ],
      "metadata": {
        "colab": {
          "base_uri": "https://localhost:8080/",
          "height": 109
        },
        "id": "3cL_HotBEQ8y",
        "outputId": "60ce1a5c-007d-4de9-ea71-0f75ed7b4cb6"
      },
      "execution_count": 6,
      "outputs": [
        {
          "output_type": "execute_result",
          "data": {
            "text/plain": [
              "'## RENTAL AGREEMENT 2.0: THE ULTIMATE ROOMIE RULES\\n\\n**Parties Involved**\\n\\nThis agreement is lit! On this fabulous fifth day of December 2008, we\\'ve got:\\nThe Landlord (a.k.a. The Big Cheese): MR. K. Kuttan, son of Kelu Aehari (RIP), residing at Site No. 152 Geethalayam OMH Colony, S.M. Road, 1st main, T. Dasarahalli, Bangalore - 57.\\nThe Tenant (a.k.a. The Roomie): Sri P.M. Narayana Namboodri, \"Laxmi Leela,\" ground floor, 3rd cross, Ayyappa Nagar, behind Ayyappa Temple, Jalahalli West, Bangalore - 15.\\n\\n**Lease Term**\\n\\nThe Lowdown:\\nThe Big Cheese owns the pad at Site No. 8/20 S.M. Road, Jalahalli West, Bangalore - 15, with an awesome 500 sqft second floor, A.C. sheet roof, and power lights.\\nThe Deal:\\nThe Roomie wants to rent it for non-residential purposes (aka \"MAHALAKSHMI INDUSTRIAL CONSULTANT\") and promises to pay ₹4,000 (Rupees Four Thousand only) per month.\\n\\n**Rent Amount**\\n\\n**Terms & Conditions**\\n\\n\\t1.\\tRent Due Date: 10th of each month. Don\\'t be late, Roomie!\\n\\n\\t2.\\t\\n\\t3.\\tSecurity Deposit: ₹35,000 (Rupees Thirty-Five Thousand only). No interest, refundable when you peace out.\\n\\n\\t4.\\t\\n\\t5.\\tNotice Period: 3 months. Give us food, and we\\'ll let you go.\\n\\n\\t6.\\t\\n\\t7.\\tUtilities: Pay electricity and water bills within a week. No freeloaders!\\n\\n\\t8.\\t\\n\\t9.\\tClean Slate: Leave the place spotless when you leave.\\n\\n\\t10.\\t\\n\\t11.\\tNo Subletting: Don\\'t try to rent it out to your BFF.\\n\\n\\t12.\\t\\n\\t13.\\tNo Drama: Landlord\\'s not responsible for theft, burglary, fire, or accidents.\\n\\n\\t14.\\t\\n\\t15.\\tInsurance: Roomie\\'s got this!\\n\\n\\t16.\\t\\n\\t17.\\tNeighborly Love: Be cool with the neighbors.\\n\\n\\t18.\\t\\n\\n**Special Conditions**\\n\\n**Boundaries:**\\nNorth by South by East by West (you get the idea)...\\n\\n**Witnessed:**\\nSigned, sealed, and delivered at Site No. 8/20 AGS building, 2nd Floor (A.C. sheet roof), Private building, S.M. Road.\\nWITNESSES:\\nOWNER (The Big Cheese) TENANT (The Roomie)\\n\\n**Disclaimer:** Don\\'t take this too seriously. It\\'s just a funny rental agreement. Consult a lawyer for real deals!\\n1. \\n'"
            ],
            "application/vnd.google.colaboratory.intrinsic+json": {
              "type": "string"
            }
          },
          "metadata": {},
          "execution_count": 6
        }
      ]
    },
    {
      "cell_type": "code",
      "source": [
        "import json\n",
        "import re\n",
        "\n",
        "# Sample organized content\n",
        "organized_content = \"\"\"\n",
        "**Parties Involved**\n",
        "\n",
        "This deed of rental agreement executed at Bangalore this fifth day of December 2008 between MR.K.Kuttan S/o Kelu Aehari (Late) residing at site No 152 Geethalayam OMH colong S.M. Road 1st main, T.Dasarahalli, Bangalore-57. Here after called the lessor which term shall where the contest so admits mean and includes his legal heirs representatives executors and assign and Sri. P.M. Narayana Namboodri “Laxmi Leela” ground floor 3rd cross Ayyappa Nagar behind Ayyappa Temple, Jalahalli West, Bangalore - 15 referred as tenant which term shall wherever the context so admits mean and includes his legal heirs representations executors assign witnesses.\n",
        "\n",
        "**Lease Term**\n",
        "\n",
        "The agreement made only for eleven months from this date of agreement. Fresh agreement with mutual terms and conditions have to be extended (6.p.c is expecting every eleventh month).\n",
        "\n",
        "**Rent Amount**\n",
        "\n",
        "Whereas the owner has offered to let out the premises for non residential purposes.\n",
        "\"\"\"\n",
        "\n",
        "#we already have it organised\n",
        "organized_content =response.text\n",
        "\n",
        "\n",
        "# Define section names\n",
        "sections = [\"Parties Involved\", \"Lease Term\", \"Rent Amount\", \"Deposit and Fees\", \"Tenant Obligations\", \"Special Conditions\"]\n",
        "\n",
        "# Initialize dictionary for JSON structure\n",
        "data = {\"file_name\": \"TestAgreement1\", \"content\": {section: \"\" for section in sections}}\n",
        "\n",
        "# Parse the text\n",
        "for section in sections:\n",
        "    # Regex to match each section header and capture text until the next header or end of document\n",
        "    pattern = rf\"\\*\\*{section}\\*\\*\\n\\n(.+?)(?=\\*\\*|$)\"\n",
        "    match = re.search(pattern, response.text, re.DOTALL)\n",
        "    if match:\n",
        "        # Strip any extra whitespace and newlines\n",
        "        data[\"content\"][section] = match.group(1).strip()\n",
        "\n",
        "# Save to JSON file\n",
        "with open(\"organized_agreement.json\", \"w\") as f:\n",
        "    json.dump(data, f, indent=2)\n",
        "\n",
        "print(\"JSON file created successfully!\")"
      ],
      "metadata": {
        "colab": {
          "base_uri": "https://localhost:8080/"
        },
        "id": "ryXoAAfHEQ5A",
        "outputId": "43bdf6ac-d5da-48c0-ba98-abc41692a0a4"
      },
      "execution_count": 7,
      "outputs": [
        {
          "output_type": "stream",
          "name": "stdout",
          "text": [
            "JSON file created successfully!\n"
          ]
        }
      ]
    },
    {
      "cell_type": "code",
      "source": [
        "data"
      ],
      "metadata": {
        "colab": {
          "base_uri": "https://localhost:8080/"
        },
        "id": "7d5YFBUoEQzx",
        "outputId": "f2e2b28f-6603-4bdc-871c-e5cb1497e9b3"
      },
      "execution_count": 8,
      "outputs": [
        {
          "output_type": "execute_result",
          "data": {
            "text/plain": [
              "{'file_name': 'TestAgreement1',\n",
              " 'content': {'Parties Involved': 'This agreement is lit! On this fabulous fifth day of December 2008, we\\'ve got:\\nThe Landlord (a.k.a. The Big Cheese): MR. K. Kuttan, son of Kelu Aehari (RIP), residing at Site No. 152 Geethalayam OMH Colony, S.M. Road, 1st main, T. Dasarahalli, Bangalore - 57.\\nThe Tenant (a.k.a. The Roomie): Sri P.M. Narayana Namboodri, \"Laxmi Leela,\" ground floor, 3rd cross, Ayyappa Nagar, behind Ayyappa Temple, Jalahalli West, Bangalore - 15.',\n",
              "  'Lease Term': 'The Lowdown:\\nThe Big Cheese owns the pad at Site No. 8/20 S.M. Road, Jalahalli West, Bangalore - 15, with an awesome 500 sqft second floor, A.C. sheet roof, and power lights.\\nThe Deal:\\nThe Roomie wants to rent it for non-residential purposes (aka \"MAHALAKSHMI INDUSTRIAL CONSULTANT\") and promises to pay ₹4,000 (Rupees Four Thousand only) per month.',\n",
              "  'Rent Amount': '**Terms & Conditions',\n",
              "  'Deposit and Fees': '',\n",
              "  'Tenant Obligations': '',\n",
              "  'Special Conditions': '**Boundaries:'}}"
            ]
          },
          "metadata": {},
          "execution_count": 8
        }
      ]
    },
    {
      "cell_type": "code",
      "source": [
        "import json\n",
        "from sentence_transformers import SentenceTransformer\n",
        "\n",
        "# Load JSON file\n",
        "with open(\"organized_agreement.json\", \"r\") as f:\n",
        "    data = json.load(f)\n",
        "\n",
        "# Extract section text\n",
        "sections = list(data[\"content\"].keys())\n",
        "section_texts = list(data[\"content\"].values())\n",
        "\n"
      ],
      "metadata": {
        "id": "rhPF58fMfj5X"
      },
      "execution_count": 9,
      "outputs": []
    },
    {
      "cell_type": "code",
      "source": [
        "import faiss\n",
        "from sentence_transformers import SentenceTransformer\n",
        "# Initialize the embedding model\n",
        "model = SentenceTransformer('all-MiniLM-L6-v2')  # Choose any model compatible with your needs\n",
        "\n",
        "# Generate embeddings for each section\n",
        "section_embeddings = model.encode(section_texts)\n",
        "# Choose an appropriate index type (FlatL2 is a good starting point)\n",
        "index = faiss.IndexFlatL2(section_embeddings.shape[1])\n",
        "\n",
        "# Add your embeddings to the index\n",
        "index.add(section_embeddings.astype('float32'))\n",
        "\n",
        "# Save the index to a file\n",
        "faiss.write_index(index, \"faiss_index.bin\")\n"
      ],
      "metadata": {
        "colab": {
          "base_uri": "https://localhost:8080/"
        },
        "id": "wbGAqHv3fj0i",
        "outputId": "150a9536-fde6-4010-e4b2-ff7b08e7a334"
      },
      "execution_count": 10,
      "outputs": [
        {
          "output_type": "stream",
          "name": "stderr",
          "text": [
            "/usr/local/lib/python3.10/dist-packages/huggingface_hub/utils/_token.py:89: UserWarning: \n",
            "The secret `HF_TOKEN` does not exist in your Colab secrets.\n",
            "To authenticate with the Hugging Face Hub, create a token in your settings tab (https://huggingface.co/settings/tokens), set it as secret in your Google Colab and restart your session.\n",
            "You will be able to reuse this secret in all of your notebooks.\n",
            "Please note that authentication is recommended but still optional to access public models or datasets.\n",
            "  warnings.warn(\n",
            "/usr/local/lib/python3.10/dist-packages/transformers/tokenization_utils_base.py:1601: FutureWarning: `clean_up_tokenization_spaces` was not set. It will be set to `True` by default. This behavior will be depracted in transformers v4.45, and will be then set to `False` by default. For more details check this issue: https://github.com/huggingface/transformers/issues/31884\n",
            "  warnings.warn(\n"
          ]
        }
      ]
    },
    {
      "cell_type": "code",
      "source": [
        "index"
      ],
      "metadata": {
        "colab": {
          "base_uri": "https://localhost:8080/"
        },
        "id": "XHduDysNhZyA",
        "outputId": "9bf9f37d-5942-4abb-f644-936e95cf7186"
      },
      "execution_count": 11,
      "outputs": [
        {
          "output_type": "execute_result",
          "data": {
            "text/plain": [
              "<faiss.swigfaiss_avx2.IndexFlatL2; proxy of <Swig Object of type 'faiss::IndexFlatL2 *' at 0x7ba38033f0c0> >"
            ]
          },
          "metadata": {},
          "execution_count": 11
        }
      ]
    },
    {
      "cell_type": "code",
      "source": [
        "# Load the embeddings and FAISS index\n",
        "embedding_model = SentenceTransformer('all-MiniLM-L6-v2')\n",
        "index = faiss.read_index(\"faiss_index.bin\")\n",
        "index"
      ],
      "metadata": {
        "colab": {
          "base_uri": "https://localhost:8080/"
        },
        "id": "hL0XsS55hZqc",
        "outputId": "0d39f87a-6090-4bf6-ff45-e5a689ff2060"
      },
      "execution_count": 12,
      "outputs": [
        {
          "output_type": "execute_result",
          "data": {
            "text/plain": [
              "<faiss.swigfaiss_avx2.IndexFlatL2; proxy of <Swig Object of type 'faiss::IndexFlatL2 *' at 0x7ba38001e0a0> >"
            ]
          },
          "metadata": {},
          "execution_count": 12
        }
      ]
    },
    {
      "cell_type": "code",
      "source": [
        "import numpy as np\n",
        "\n",
        "# Function to embed text using your chosen embedding model\n",
        "def embed_text(text):\n",
        "    # Implement your embedding logic here\n",
        "    embedding = embedding_model.encode(text)  # Replace with actual embedding logic\n",
        "    return np.array(embedding)  # Ensure it's a numpy array\n",
        "\n",
        "# Function to retrieve similar sections based on a query\n",
        "def retrieve_similar_sections(query, index, your_documents, k):\n",
        "    # Embed the query\n",
        "    query_embedding = embed_text(query)\n",
        "    print(\"Shape of Query Embedding:\", query_embedding.shape)\n",
        "\n",
        "    # Perform a search on the FAISS index\n",
        "    distances, indices = index.search(query_embedding.reshape(1, -1), k)\n",
        "\n",
        "    # Handle empty results\n",
        "    if len(indices[0]) == 0:\n",
        "        return [\"No relevant sections found.\"]\n",
        "\n",
        "    # Retrieve matched sections\n",
        "    matched_sections = [your_documents[idx] for idx in indices[0] if idx < len(your_documents)]\n",
        "    print(matched_sections,\"Sections found\")\n",
        "    return matched_sections\n",
        "\n",
        "# Function to generate a response using the Google Gen AI model\n",
        "def generate_response(query, index, your_documents):\n",
        "    # Retrieve the sections\n",
        "    matched_sections = retrieve_similar_sections(query, index, your_documents, k=1)\n",
        "\n",
        "    context = \"\\n\\n\".join(matched_sections)\n",
        "    combined_input = f\"Use these new details Query: {query} and refer to the \\n\\nContext:\\n{context} to write a new agreement\"\n",
        "    print(\"Input to model:\", combined_input)\n",
        "\n",
        "    # Generate response using the Google Gen AI model\n",
        "    response = model_google.generate_content(combined_input)\n",
        "    return response\n",
        "\n",
        "# Example usage\n",
        "new_details =\" **tenant name:** MRS CAT of the 2nd floor\\\n",
        "**Rent Amount:** The monthly rent is $1,200.\\\n",
        "**Deposit and Fees:** A security deposit of 1 million is required.\\\n",
        "lease duration is 2nd decemeber 2024 for 1 year, landlord name is PEANUT THE KING , address is 123 king street\"\n",
        "query = new_details  # Example query\n",
        "response = generate_response(query, index, section_texts)\n",
        "print(\"\\n\\n THIS IS NEW LEASE AGREEMENT\")\n",
        "print(response.text)\n"
      ],
      "metadata": {
        "colab": {
          "base_uri": "https://localhost:8080/",
          "height": 1000
        },
        "id": "LUba6nlNhmJD",
        "outputId": "2c0bf532-c0b8-462f-c3b5-076e94d04aa5"
      },
      "execution_count": 17,
      "outputs": [
        {
          "output_type": "stream",
          "name": "stdout",
          "text": [
            "Shape of Query Embedding: (384,)\n",
            "['This agreement is lit! On this fabulous fifth day of December 2008, we\\'ve got:\\nThe Landlord (a.k.a. The Big Cheese): MR. K. Kuttan, son of Kelu Aehari (RIP), residing at Site No. 152 Geethalayam OMH Colony, S.M. Road, 1st main, T. Dasarahalli, Bangalore - 57.\\nThe Tenant (a.k.a. The Roomie): Sri P.M. Narayana Namboodri, \"Laxmi Leela,\" ground floor, 3rd cross, Ayyappa Nagar, behind Ayyappa Temple, Jalahalli West, Bangalore - 15.'] Sections found\n",
            "Input to model: Use these new details Query:  **tenant name:** MRS CAT of the 2nd floor**Rent Amount:** The monthly rent is $1,200.**Deposit and Fees:** A security deposit of 1 million is required.lease duration is 2nd decemeber 2024 for 1 year, landlord name is PEANUT THE KING , address is 123 king street and refer to the \n",
            "\n",
            "Context:\n",
            "This agreement is lit! On this fabulous fifth day of December 2008, we've got:\n",
            "The Landlord (a.k.a. The Big Cheese): MR. K. Kuttan, son of Kelu Aehari (RIP), residing at Site No. 152 Geethalayam OMH Colony, S.M. Road, 1st main, T. Dasarahalli, Bangalore - 57.\n",
            "The Tenant (a.k.a. The Roomie): Sri P.M. Narayana Namboodri, \"Laxmi Leela,\" ground floor, 3rd cross, Ayyappa Nagar, behind Ayyappa Temple, Jalahalli West, Bangalore - 15. to write a new agreement\n",
            "\n",
            "\n",
            " THIS IS NEW LEASE AGREEMENT\n",
            "##  Lease Agreement \n",
            "\n",
            "This Lease Agreement (\"Agreement\") is made and entered into this 5th day of December, 2008, by and between:\n",
            "\n",
            "**Landlord:** PEANUT THE KING, residing at 123 King Street, [City, State, Zip Code] (hereinafter referred to as \"Landlord\").\n",
            "\n",
            "**Tenant:** MRS CAT, residing at 2nd Floor, [Address], [City, State, Zip Code] (hereinafter referred to as \"Tenant\").\n",
            "\n",
            "**WITNESSETH:**\n",
            "\n",
            "WHEREAS, Landlord is the owner of the premises located at [Address] (hereinafter referred to as \"Premises\"); and\n",
            "\n",
            "WHEREAS, Tenant desires to lease the Premises from Landlord;\n",
            "\n",
            "NOW, THEREFORE, in consideration of the mutual covenants contained herein, the parties agree as follows:\n",
            "\n",
            "**1. Lease Term:**\n",
            "\n",
            "This Agreement shall commence on December 2nd, 2024, and shall continue for a term of one (1) year, expiring on December 1st, 2025.\n",
            "\n",
            "**2. Premises:**\n",
            "\n",
            "Landlord agrees to lease to Tenant the Premises described above.\n",
            "\n",
            "**3. Rent:**\n",
            "\n",
            "Tenant shall pay to Landlord a monthly rent of $1,200.00 (One Thousand Two Hundred Dollars), payable on the first day of each month, commencing on December 1st, 2024.\n",
            "\n",
            "**4. Deposit and Fees:**\n",
            "\n",
            "Tenant shall pay to Landlord a security deposit of One Million Dollars ($1,000,000.00) upon execution of this Agreement. This deposit will be returned to Tenant within [Number] days of the termination of this Agreement, less any deductions for damages to the Premises beyond normal wear and tear.\n",
            "\n",
            "**5. Use of Premises:**\n",
            "\n",
            "Tenant shall use the Premises solely for residential purposes and shall not use the Premises for any illegal or offensive activities.\n",
            "\n",
            "**6. Maintenance and Repairs:**\n",
            "\n",
            "Landlord shall be responsible for all major repairs to the Premises, including but not limited to, repairs to the roof, plumbing, electrical system, and heating/cooling system. Tenant shall be responsible for maintaining the Premises in a clean and sanitary condition and shall be responsible for all minor repairs.\n",
            "\n",
            "**7. Utilities:**\n",
            "\n",
            "Tenant shall be responsible for the payment of all utilities for the Premises, including but not limited to, electricity, water, gas, and trash removal.\n",
            "\n",
            "**8. Pets:**\n",
            "\n",
            "[Please insert clause regarding pets. Are pets allowed? Any restrictions?]\n",
            "\n",
            "**9. Termination:**\n",
            "\n",
            "This Agreement may be terminated by either party upon [Number] days written notice to the other party. This Agreement may also be terminated by Landlord for any breach of this Agreement by Tenant.\n",
            "\n",
            "**10. Default:**\n",
            "\n",
            "If Tenant fails to pay rent or any other sum due hereunder within [Number] days of the due date, or if Tenant breaches any other provision of this Agreement, Landlord may terminate this Agreement and recover possession of the Premises. \n",
            "\n",
            "**11. Entire Agreement:**\n",
            "\n",
            "This Agreement constitutes the entire agreement between the parties and supersedes all prior or contemporaneous communications, representations, or agreements, whether oral or written.\n",
            "\n",
            "**12. Governing Law:**\n",
            "\n",
            "This Agreement shall be governed by and construed in accordance with the laws of the State of [State Name].\n",
            "\n",
            "**13. Notices:**\n",
            "\n",
            "All notices hereunder shall be in writing and shall be deemed to have been duly given when delivered personally or sent by certified mail, postage prepaid, return receipt requested, addressed as follows:\n",
            "\n",
            "If to Landlord: \n",
            "[Address of Landlord]\n",
            "\n",
            "If to Tenant: \n",
            "[Address of Tenant]\n",
            "\n",
            "**14. Severability:**\n",
            "\n",
            "If any provision of this Agreement is held to be invalid or unenforceable, such provision shall be struck from this Agreement and the remaining provisions shall remain in full force and effect.\n",
            "\n",
            "**15. Binding Effect:**\n",
            "\n",
            "This Agreement shall be binding upon and inure to the benefit of the parties hereto and their respective successors and permitted assigns.\n",
            "\n",
            "IN WITNESS WHEREOF, the parties have executed this Agreement as of the date first written above.\n",
            "\n",
            "**Landlord:**\n",
            "\n",
            "__________________________\n",
            "\n",
            "PEANUT THE KING\n",
            "\n",
            "**Tenant:**\n",
            "\n",
            "__________________________\n",
            "\n",
            "MRS CAT\n",
            "\n",
            "\n",
            "**Please note:** This is a sample lease agreement and may not be suitable for all situations. It is recommended that you consult with an attorney to ensure that your lease agreement is compliant with all applicable laws and regulations.\n",
            "\n"
          ]
        }
      ]
    },
    {
      "cell_type": "code",
      "source": [],
      "metadata": {
        "id": "LEKThYZ3hl-5"
      },
      "execution_count": null,
      "outputs": []
    },
    {
      "cell_type": "code",
      "source": [],
      "metadata": {
        "id": "HNcYrX4Bhl7C"
      },
      "execution_count": null,
      "outputs": []
    },
    {
      "cell_type": "code",
      "source": [],
      "metadata": {
        "id": "32NXnZR2hl3J"
      },
      "execution_count": null,
      "outputs": []
    }
  ]
}